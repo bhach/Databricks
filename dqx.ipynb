{
 "cells": [
  {
   "cell_type": "code",
   "execution_count": null,
   "id": "8cc547e9",
   "metadata": {},
   "outputs": [],
   "source": [
    "%pip install databricks-labs-dqx"
   ]
  },
  {
   "cell_type": "code",
   "execution_count": null,
   "id": "30f3a5a0",
   "metadata": {},
   "outputs": [],
   "source": [
    "import os\n",
    "from databricks. labs.dqx.profiler.profiler import DQProfiler\n",
    "from databricks. labs.dqx.profiler.generator import DQGenerator\n",
    "from databricks. labs.dqx.engine import DQEngine\n",
    "from databricks.sdk import WorkspaceClient\n",
    "from pprint import pprint"
   ]
  },
  {
   "cell_type": "code",
   "execution_count": null,
   "id": "127d083b",
   "metadata": {},
   "outputs": [],
   "source": [
    "import os\n",
    "workspace_root_path = os.getcwd()\n",
    "quality_rules_path = f\"{workspace_root_path}/quality_rules/\"\n",
    "\n",
    "# Read Input Data\n",
    "mntnc_bronze_df = spark.read.table(\"dqx_dais_demo.dqx_mfg_example.maintenar ce_data\")"
   ]
  },
  {
   "cell_type": "markdown",
   "id": "960a45bf",
   "metadata": {},
   "source": [
    "1. Instantiate DQX Engine"
   ]
  },
  {
   "cell_type": "code",
   "execution_count": null,
   "id": "4acab53d",
   "metadata": {},
   "outputs": [],
   "source": [
    "# Instantiate DQX engine\n",
    "ws = WorkspaceClient()\n",
    "dq_engine = DQEngine(ws)\n",
    "\n",
    "#DQProfiler and DQGenerator are used for profiling and generating data quality rules.\n",
    "#DQEngine applies those rules to data.\n",
    "#WorkspaceClient connects to your Databricks workspace.\n",
    "\n",
    "#WorkspaceClient() initializes a connection to your Databricks workspace.\n",
    "#DQEngine(ws) creates an instance of the DQX engine using that workspace connection. This engine will be used to apply data quality checks to your DataFrame."
   ]
  },
  {
   "cell_type": "markdown",
   "id": "c4d53372",
   "metadata": {},
   "source": [
    "2. Profile Input Data"
   ]
  },
  {
   "cell_type": "code",
   "execution_count": null,
   "id": "d72b4b59",
   "metadata": {},
   "outputs": [],
   "source": [
    "\n",
    "profiler = DQProfiler(ws)\n",
    "summary_stats, profiles = profiler.profile(mntnc_bronze_df)\n",
    "\n",
    "#DQProfiler analyzes the input DataFrame (mntnc_bronze_df) to generate:\n",
    "#1. summary_stats: High-level statistics (e.g., null counts, distinct values, etc.)\n",
    "#2. profiles: Detailed metadata for each column, which is used to generate data quality rules."
   ]
  },
  {
   "cell_type": "markdown",
   "id": "66667dfb",
   "metadata": {},
   "source": [
    "3. Generate Data Quality Rules"
   ]
  },
  {
   "cell_type": "code",
   "execution_count": null,
   "id": "b097d6fa",
   "metadata": {},
   "outputs": [],
   "source": [
    "generator = DQGenerator(ws)\n",
    "checks = generator.generate_cq_rules(profiles)  # default criticality: \"error\"\n",
    "\n",
    "#DQGenerator uses the column profiles to automatically create data quality checks.\n",
    "#All generated checks are marked with criticality level \"error\" by default."
   ]
  },
  {
   "cell_type": "markdown",
   "id": "5b3dabd5",
   "metadata": {},
   "source": [
    "4.A. Save the Data Quality Rules in a file to workspace"
   ]
  },
  {
   "cell_type": "code",
   "execution_count": null,
   "id": "30b1f2a2",
   "metadata": {},
   "outputs": [],
   "source": [
    "maintenance_quality_rules = f\"{quality_rules_path}/maintenance_dq_rules.yml\"\n",
    "dq_engine.save_checks_in_workspace_file(checks, workspace_path=maintenance_quality_rules)\n"
   ]
  },
  {
   "cell_type": "markdown",
   "id": "faf2ca61",
   "metadata": {},
   "source": [
    "4.B. Save the Data Quality Rules in a delta table workspace"
   ]
  },
  {
   "cell_type": "code",
   "execution_count": null,
   "id": "1c276def",
   "metadata": {},
   "outputs": [],
   "source": [
    "fq_tbl =\"dqx_dais_demo.dqx_mfg_example.maintenance_quality_rules\"\n",
    "dq_engine.save_checks_in_table(table_name=fq_tbl, checks=checks)"
   ]
  },
  {
   "cell_type": "markdown",
   "id": "7409ddb1",
   "metadata": {},
   "source": [
    "\n",
    "# rules will be saved something like this in a table\n",
    "| column_name | function      | arguments         | criticality | metadata |\n",
    "|-------------|---------------|-------------------|-------------|----------|\n",
    "| col1        | is_in_list    | {\"allowed\": [1,2]}| warn        | {...}    |\n",
    "| col2        | is_not_null   | {}                | error       | {...}    |\n",
    "\n",
    "# you can query it also\n",
    "select * from dqx_dais_demo.dqx_mfg_example.maintenance_quality_rules\n"
   ]
  },
  {
   "cell_type": "markdown",
   "id": "92e7e47e",
   "metadata": {},
   "source": [
    "5.A. Apply saved checks to an input dataframe from a file"
   ]
  },
  {
   "cell_type": "code",
   "execution_count": null,
   "id": "a7318265",
   "metadata": {},
   "outputs": [],
   "source": [
    "# Apply checks on input data\n",
    "quality_checks = dq_engine. load_checks_from_workspace_file(workspace_path=maintenance_quality_rules)\n",
    "valid_df, quarantined_df = dq_engine.apply_checks_by_metadata_and_split(mntnc_bronze_df, quality_checks)\n",
    "\n",
    "print(\" === Maintenance Bad Data Sample === \")\n",
    "display(quarantined_df)"
   ]
  },
  {
   "cell_type": "markdown",
   "id": "1f606d00",
   "metadata": {},
   "source": [
    "5.B. Apply saved checks to an input dataframe from delta table"
   ]
  },
  {
   "cell_type": "code",
   "execution_count": null,
   "id": "36d2e96c",
   "metadata": {},
   "outputs": [],
   "source": [
    "# Load quality checks from Delta table\n",
    "quality_checks_from_table = dq_engine.load_checks_from_table(table_name=fq_tbl)\n",
    "\n",
    "# Apply checks and split valid and quarantined data\n",
    "valid_df_tbl, quarantined_df_tbl = dq_engine.apply_checks_by_metadata_and_split(mntnc_bronze_df, quality_checks_from_table)\n",
    "\n",
    "# Display quarantined data\n",
    "print(\"=== Maintenance Bad Data Sample (from Delta table) ===\")\n",
    "display(quarantined_df_tbl)\n"
   ]
  }
 ],
 "metadata": {
  "language_info": {
   "name": "python"
  }
 },
 "nbformat": 4,
 "nbformat_minor": 5
}
