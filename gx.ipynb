{
 "cells": [
  {
   "cell_type": "code",
   "execution_count": 1,
   "id": "4485861a",
   "metadata": {},
   "outputs": [
    {
     "name": "stdout",
     "output_type": "stream",
     "text": [
      "Defaulting to user installation because normal site-packages is not writeable\n",
      "Requirement already satisfied: great_expectations in c:\\users\\bha104389\\appdata\\roaming\\python\\python310\\site-packages (1.6.2)\n",
      "Requirement already satisfied: posthog>3 in c:\\users\\bha104389\\appdata\\roaming\\python\\python310\\site-packages (from great_expectations) (6.7.6)\n",
      "Requirement already satisfied: pyparsing!=3.2.4,>=2.4 in c:\\users\\bha104389\\appdata\\roaming\\python\\python310\\site-packages (from great_expectations) (3.2.5)\n",
      "Requirement already satisfied: cryptography>=3.2 in c:\\users\\bha104389\\appdata\\roaming\\python\\python310\\site-packages (from great_expectations) (46.0.1)\n",
      "Requirement already satisfied: tqdm>=4.59.0 in c:\\users\\bha104389\\appdata\\roaming\\python\\python310\\site-packages (from great_expectations) (4.67.1)\n",
      "Requirement already satisfied: jsonschema>=2.5.1 in c:\\users\\bha104389\\appdata\\roaming\\python\\python310\\site-packages (from great_expectations) (4.25.1)\n",
      "Requirement already satisfied: numpy>=1.22.4 in c:\\users\\bha104389\\appdata\\roaming\\python\\python310\\site-packages (from great_expectations) (1.26.4)\n",
      "Requirement already satisfied: jinja2>=3 in c:\\users\\bha104389\\appdata\\roaming\\python\\python310\\site-packages (from great_expectations) (3.1.6)\n",
      "Requirement already satisfied: marshmallow<4.0.0,>=3.7.1 in c:\\users\\bha104389\\appdata\\roaming\\python\\python310\\site-packages (from great_expectations) (3.26.1)\n",
      "Requirement already satisfied: python-dateutil>=2.8.1 in c:\\users\\bha104389\\appdata\\roaming\\python\\python310\\site-packages (from great_expectations) (2.9.0.post0)\n",
      "Requirement already satisfied: typing-extensions>=4.1.0 in c:\\users\\bha104389\\appdata\\roaming\\python\\python310\\site-packages (from great_expectations) (4.15.0)\n",
      "Requirement already satisfied: ruamel.yaml>=0.16 in c:\\users\\bha104389\\appdata\\roaming\\python\\python310\\site-packages (from great_expectations) (0.18.15)\n",
      "Requirement already satisfied: mistune>=0.8.4 in c:\\users\\bha104389\\appdata\\roaming\\python\\python310\\site-packages (from great_expectations) (3.1.4)\n",
      "Requirement already satisfied: tzlocal>=1.2 in c:\\users\\bha104389\\appdata\\roaming\\python\\python310\\site-packages (from great_expectations) (5.3.1)\n",
      "Requirement already satisfied: altair<5.0.0,>=4.2.1 in c:\\users\\bha104389\\appdata\\roaming\\python\\python310\\site-packages (from great_expectations) (4.2.2)\n",
      "Requirement already satisfied: scipy>=1.6.0 in c:\\users\\bha104389\\appdata\\roaming\\python\\python310\\site-packages (from great_expectations) (1.15.3)\n",
      "Requirement already satisfied: packaging in c:\\users\\bha104389\\appdata\\roaming\\python\\python310\\site-packages (from great_expectations) (25.0)\n",
      "Requirement already satisfied: pandas<2.2,>=1.3.0 in c:\\users\\bha104389\\appdata\\roaming\\python\\python310\\site-packages (from great_expectations) (2.1.4)\n",
      "Requirement already satisfied: pydantic>=1.10.7 in c:\\users\\bha104389\\appdata\\roaming\\python\\python310\\site-packages (from great_expectations) (2.11.9)\n",
      "Requirement already satisfied: requests>=2.20 in c:\\users\\bha104389\\appdata\\roaming\\python\\python310\\site-packages (from great_expectations) (2.32.5)\n",
      "Requirement already satisfied: toolz in c:\\users\\bha104389\\appdata\\roaming\\python\\python310\\site-packages (from altair<5.0.0,>=4.2.1->great_expectations) (1.0.0)\n",
      "Requirement already satisfied: entrypoints in c:\\users\\bha104389\\appdata\\roaming\\python\\python310\\site-packages (from altair<5.0.0,>=4.2.1->great_expectations) (0.4)\n",
      "Requirement already satisfied: cffi>=2.0.0 in c:\\users\\bha104389\\appdata\\roaming\\python\\python310\\site-packages (from cryptography>=3.2->great_expectations) (2.0.0)\n",
      "Requirement already satisfied: MarkupSafe>=2.0 in c:\\users\\bha104389\\appdata\\roaming\\python\\python310\\site-packages (from jinja2>=3->great_expectations) (3.0.2)\n",
      "Requirement already satisfied: jsonschema-specifications>=2023.03.6 in c:\\users\\bha104389\\appdata\\roaming\\python\\python310\\site-packages (from jsonschema>=2.5.1->great_expectations) (2025.9.1)\n",
      "Requirement already satisfied: rpds-py>=0.7.1 in c:\\users\\bha104389\\appdata\\roaming\\python\\python310\\site-packages (from jsonschema>=2.5.1->great_expectations) (0.27.1)\n",
      "Requirement already satisfied: referencing>=0.28.4 in c:\\users\\bha104389\\appdata\\roaming\\python\\python310\\site-packages (from jsonschema>=2.5.1->great_expectations) (0.36.2)\n",
      "Requirement already satisfied: attrs>=22.2.0 in c:\\users\\bha104389\\appdata\\roaming\\python\\python310\\site-packages (from jsonschema>=2.5.1->great_expectations) (25.3.0)\n",
      "Requirement already satisfied: tzdata>=2022.1 in c:\\users\\bha104389\\appdata\\roaming\\python\\python310\\site-packages (from pandas<2.2,>=1.3.0->great_expectations) (2025.2)\n",
      "Requirement already satisfied: pytz>=2020.1 in c:\\users\\bha104389\\appdata\\roaming\\python\\python310\\site-packages (from pandas<2.2,>=1.3.0->great_expectations) (2025.2)\n",
      "Requirement already satisfied: six>=1.5 in c:\\users\\bha104389\\appdata\\roaming\\python\\python310\\site-packages (from posthog>3->great_expectations) (1.17.0)\n",
      "Requirement already satisfied: distro>=1.5.0 in c:\\users\\bha104389\\appdata\\roaming\\python\\python310\\site-packages (from posthog>3->great_expectations) (1.9.0)\n",
      "Requirement already satisfied: backoff>=1.10.0 in c:\\users\\bha104389\\appdata\\roaming\\python\\python310\\site-packages (from posthog>3->great_expectations) (2.2.1)\n",
      "Requirement already satisfied: typing-inspection>=0.4.0 in c:\\users\\bha104389\\appdata\\roaming\\python\\python310\\site-packages (from pydantic>=1.10.7->great_expectations) (0.4.1)\n",
      "Requirement already satisfied: pydantic-core==2.33.2 in c:\\users\\bha104389\\appdata\\roaming\\python\\python310\\site-packages (from pydantic>=1.10.7->great_expectations) (2.33.2)\n",
      "Requirement already satisfied: annotated-types>=0.6.0 in c:\\users\\bha104389\\appdata\\roaming\\python\\python310\\site-packages (from pydantic>=1.10.7->great_expectations) (0.7.0)\n",
      "Requirement already satisfied: urllib3<3,>=1.21.1 in c:\\users\\bha104389\\appdata\\roaming\\python\\python310\\site-packages (from requests>=2.20->great_expectations) (2.5.0)\n",
      "Requirement already satisfied: certifi>=2017.4.17 in c:\\users\\bha104389\\appdata\\roaming\\python\\python310\\site-packages (from requests>=2.20->great_expectations) (2025.8.3)\n",
      "Requirement already satisfied: idna<4,>=2.5 in c:\\users\\bha104389\\appdata\\roaming\\python\\python310\\site-packages (from requests>=2.20->great_expectations) (3.10)\n",
      "Requirement already satisfied: charset_normalizer<4,>=2 in c:\\users\\bha104389\\appdata\\roaming\\python\\python310\\site-packages (from requests>=2.20->great_expectations) (3.4.3)\n",
      "Requirement already satisfied: ruamel.yaml.clib>=0.2.7 in c:\\users\\bha104389\\appdata\\roaming\\python\\python310\\site-packages (from ruamel.yaml>=0.16->great_expectations) (0.2.14)\n",
      "Requirement already satisfied: colorama in c:\\users\\bha104389\\appdata\\roaming\\python\\python310\\site-packages (from tqdm>=4.59.0->great_expectations) (0.4.6)\n",
      "Requirement already satisfied: pycparser in c:\\users\\bha104389\\appdata\\roaming\\python\\python310\\site-packages (from cffi>=2.0.0->cryptography>=3.2->great_expectations) (2.23)\n",
      "Note: you may need to restart the kernel to use updated packages.\n"
     ]
    },
    {
     "name": "stderr",
     "output_type": "stream",
     "text": [
      "\n",
      "[notice] A new release of pip is available: 23.0.1 -> 25.2\n",
      "[notice] To update, run: python.exe -m pip install --upgrade pip\n"
     ]
    }
   ],
   "source": [
    "pip install great_expectations"
   ]
  },
  {
   "cell_type": "code",
   "execution_count": 1,
   "id": "c95527d1",
   "metadata": {},
   "outputs": [],
   "source": [
    "import great_expectations as gx\n",
    "context = gx.get_context()"
   ]
  },
  {
   "cell_type": "code",
   "execution_count": 2,
   "id": "e873b243",
   "metadata": {},
   "outputs": [
    {
     "data": {
      "text/plain": [
       "{\n",
       "  \"checkpoint_store_name\": \"checkpoint_store\",\n",
       "  \"config_version\": 4,\n",
       "  \"data_docs_sites\": {\n",
       "    \"local_site\": {\n",
       "      \"class_name\": \"SiteBuilder\",\n",
       "      \"show_how_to_buttons\": true,\n",
       "      \"store_backend\": {\n",
       "        \"class_name\": \"TupleFilesystemStoreBackend\",\n",
       "        \"base_directory\": \"C:\\\\Users\\\\BHA104~1\\\\AppData\\\\Local\\\\Temp\\\\tmpfg_btwik\"\n",
       "      },\n",
       "      \"site_index_builder\": {\n",
       "        \"class_name\": \"DefaultSiteIndexBuilder\"\n",
       "      }\n",
       "    }\n",
       "  },\n",
       "  \"expectations_store_name\": \"expectations_store\",\n",
       "  \"fluent_datasources\": {},\n",
       "  \"stores\": {\n",
       "    \"expectations_store\": {\n",
       "      \"class_name\": \"ExpectationsStore\",\n",
       "      \"store_backend\": {\n",
       "        \"class_name\": \"InMemoryStoreBackend\"\n",
       "      }\n",
       "    },\n",
       "    \"validation_results_store\": {\n",
       "      \"class_name\": \"ValidationResultsStore\",\n",
       "      \"store_backend\": {\n",
       "        \"class_name\": \"InMemoryStoreBackend\"\n",
       "      }\n",
       "    },\n",
       "    \"checkpoint_store\": {\n",
       "      \"class_name\": \"CheckpointStore\",\n",
       "      \"store_backend\": {\n",
       "        \"class_name\": \"InMemoryStoreBackend\"\n",
       "      }\n",
       "    },\n",
       "    \"validation_definition_store\": {\n",
       "      \"class_name\": \"ValidationDefinitionStore\",\n",
       "      \"store_backend\": {\n",
       "        \"class_name\": \"InMemoryStoreBackend\"\n",
       "      }\n",
       "    }\n",
       "  },\n",
       "  \"validation_results_store_name\": \"validation_results_store\"\n",
       "}"
      ]
     },
     "execution_count": 2,
     "metadata": {},
     "output_type": "execute_result"
    }
   ],
   "source": [
    "context"
   ]
  },
  {
   "cell_type": "code",
   "execution_count": 3,
   "id": "db328b9e",
   "metadata": {},
   "outputs": [],
   "source": [
    "import pandas as pd"
   ]
  },
  {
   "cell_type": "code",
   "execution_count": 4,
   "id": "6aaadc9a",
   "metadata": {},
   "outputs": [],
   "source": [
    "df=pd.read_csv(\"data.csv\")"
   ]
  },
  {
   "cell_type": "code",
   "execution_count": 5,
   "id": "e704586c",
   "metadata": {},
   "outputs": [],
   "source": [
    "# register datasource\n",
    "data_source = context.data_sources.add_pandas(name=\"df\")\n"
   ]
  },
  {
   "cell_type": "code",
   "execution_count": null,
   "id": "6c155323",
   "metadata": {},
   "outputs": [],
   "source": [
    "# register dataasset\n",
    "data_asset = data_source.add_dataframe_asset(name=\"df_asset\")"
   ]
  },
  {
   "cell_type": "code",
   "execution_count": 9,
   "id": "26a80bb6",
   "metadata": {},
   "outputs": [
    {
     "name": "stdout",
     "output_type": "stream",
     "text": [
      "Batch Definition added: df_batch\n"
     ]
    }
   ],
   "source": [
    "# Define the Batch Definition name\n",
    "batch_definition_name = \"df_batch\"\n",
    "\n",
    "# Add the Batch Definition\n",
    "batch_definition = data_asset.add_batch_definition_whole_dataframe(batch_definition_name)\n",
    "\n",
    "# Optional: Print or log the name to verify\n",
    "print(\"Batch Definition added:\", batch_definition.name)\n"
   ]
  },
  {
   "cell_type": "code",
   "execution_count": 15,
   "id": "f4879246",
   "metadata": {},
   "outputs": [],
   "source": [
    "# Define the Batch Parameters\n",
    "batch_parameters = {\"dataframe\": df}\n",
    "# Retrieve the Batch\n",
    "batch = batch_definition.get_batch(batch_parameters=batch_parameters)"
   ]
  },
  {
   "cell_type": "code",
   "execution_count": 16,
   "id": "25dc1823",
   "metadata": {},
   "outputs": [
    {
     "data": {
      "text/plain": [
       "{\n",
       "  \"name\": \"df_suite\",\n",
       "  \"id\": \"46f7082b-2ce6-4f3b-95ec-3110e53908ed\",\n",
       "  \"expectations\": [\n",
       "    {\n",
       "      \"type\": \"expect_column_values_to_not_be_null\",\n",
       "      \"kwargs\": {\n",
       "        \"column\": \"ID\"\n",
       "      },\n",
       "      \"meta\": {},\n",
       "      \"id\": \"5b793d6f-5374-4361-9e89-2e3235faf8de\",\n",
       "      \"severity\": \"critical\"\n",
       "    },\n",
       "    {\n",
       "      \"type\": \"expect_column_values_to_be_unique\",\n",
       "      \"kwargs\": {\n",
       "        \"column\": \"ID\"\n",
       "      },\n",
       "      \"meta\": {},\n",
       "      \"id\": \"c0674877-6783-46ea-9942-270dd01f9333\",\n",
       "      \"severity\": \"critical\"\n",
       "    }\n",
       "  ],\n",
       "  \"meta\": {\n",
       "    \"great_expectations_version\": \"1.6.2\"\n",
       "  },\n",
       "  \"notes\": null\n",
       "}"
      ]
     },
     "execution_count": 16,
     "metadata": {},
     "output_type": "execute_result"
    }
   ],
   "source": [
    "# Create an Expectation Suite\n",
    "expectation_suite_name = \"df_suite\"\n",
    "suite = gx.ExpectationSuite(name=expectation_suite_name)\n",
    "# Add Expectations\n",
    "suite.add_expectation(\n",
    "    gx.expectations.ExpectColumnValuesToNotBeNull(column=\"ID\")\n",
    ")\n",
    "suite.add_expectation(\n",
    "    gx.expectations.ExpectColumnValuesToBeUnique(column=\"ID\")\n",
    ")\n",
    "# Add the Expectation Suite to the Context\n",
    "context.suites.add(suite)"
   ]
  },
  {
   "cell_type": "code",
   "execution_count": 17,
   "id": "5a1766c6",
   "metadata": {},
   "outputs": [
    {
     "name": "stderr",
     "output_type": "stream",
     "text": [
      "Calculating Metrics: 100%|██████████| 13/13 [00:00<00:00, 557.71it/s]"
     ]
    },
    {
     "name": "stdout",
     "output_type": "stream",
     "text": [
      "{\n",
      "  \"success\": false,\n",
      "  \"results\": [\n",
      "    {\n",
      "      \"success\": false,\n",
      "      \"expectation_config\": {\n",
      "        \"type\": \"expect_column_values_to_not_be_null\",\n",
      "        \"kwargs\": {\n",
      "          \"batch_id\": \"df-df_asset\",\n",
      "          \"column\": \"ID\"\n",
      "        },\n",
      "        \"meta\": {},\n",
      "        \"id\": \"5b793d6f-5374-4361-9e89-2e3235faf8de\",\n",
      "        \"severity\": \"critical\"\n",
      "      },\n",
      "      \"result\": {\n",
      "        \"element_count\": 4,\n",
      "        \"unexpected_count\": 1,\n",
      "        \"unexpected_percent\": 25.0,\n",
      "        \"partial_unexpected_list\": [\n",
      "          null\n",
      "        ],\n",
      "        \"partial_unexpected_counts\": [\n",
      "          {\n",
      "            \"value\": null,\n",
      "            \"count\": 1\n",
      "          }\n",
      "        ],\n",
      "        \"partial_unexpected_index_list\": [\n",
      "          2\n",
      "        ]\n",
      "      },\n",
      "      \"meta\": {},\n",
      "      \"exception_info\": {\n",
      "        \"raised_exception\": false,\n",
      "        \"exception_traceback\": null,\n",
      "        \"exception_message\": null\n",
      "      }\n",
      "    },\n",
      "    {\n",
      "      \"success\": true,\n",
      "      \"expectation_config\": {\n",
      "        \"type\": \"expect_column_values_to_be_unique\",\n",
      "        \"kwargs\": {\n",
      "          \"batch_id\": \"df-df_asset\",\n",
      "          \"column\": \"ID\"\n",
      "        },\n",
      "        \"meta\": {},\n",
      "        \"id\": \"c0674877-6783-46ea-9942-270dd01f9333\",\n",
      "        \"severity\": \"critical\"\n",
      "      },\n",
      "      \"result\": {\n",
      "        \"element_count\": 4,\n",
      "        \"unexpected_count\": 0,\n",
      "        \"unexpected_percent\": 0.0,\n",
      "        \"partial_unexpected_list\": [],\n",
      "        \"missing_count\": 1,\n",
      "        \"missing_percent\": 25.0,\n",
      "        \"unexpected_percent_total\": 0.0,\n",
      "        \"unexpected_percent_nonmissing\": 0.0,\n",
      "        \"partial_unexpected_counts\": [],\n",
      "        \"partial_unexpected_index_list\": []\n",
      "      },\n",
      "      \"meta\": {},\n",
      "      \"exception_info\": {\n",
      "        \"raised_exception\": false,\n",
      "        \"exception_traceback\": null,\n",
      "        \"exception_message\": null\n",
      "      }\n",
      "    }\n",
      "  ],\n",
      "  \"suite_name\": \"df_suite\",\n",
      "  \"suite_parameters\": {},\n",
      "  \"statistics\": {\n",
      "    \"evaluated_expectations\": 2,\n",
      "    \"successful_expectations\": 1,\n",
      "    \"unsuccessful_expectations\": 1,\n",
      "    \"success_percent\": 50.0\n",
      "  },\n",
      "  \"meta\": {\n",
      "    \"great_expectations_version\": \"1.6.2\",\n",
      "    \"batch_spec\": {\n",
      "      \"batch_data\": \"PandasDataFrame\"\n",
      "    },\n",
      "    \"batch_markers\": {\n",
      "      \"ge_load_time\": \"20250924T040523.453173Z\",\n",
      "      \"pandas_data_fingerprint\": \"dea1217026d6b623b576d6c32da91500\"\n",
      "    },\n",
      "    \"active_batch_definition\": {\n",
      "      \"datasource_name\": \"df\",\n",
      "      \"data_connector_name\": \"fluent\",\n",
      "      \"data_asset_name\": \"df_asset\",\n",
      "      \"batch_identifiers\": {\n",
      "        \"dataframe\": \"<DATAFRAME>\"\n",
      "      }\n",
      "    }\n",
      "  },\n",
      "  \"id\": null\n",
      "}\n"
     ]
    },
    {
     "name": "stderr",
     "output_type": "stream",
     "text": [
      "\n"
     ]
    }
   ],
   "source": [
    "# Validate the Data Against the Suite\n",
    "validation_results = batch.validate(suite)\n",
    "# Evaluate the Results\n",
    "print(validation_results)"
   ]
  }
 ],
 "metadata": {
  "kernelspec": {
   "display_name": "Python 3",
   "language": "python",
   "name": "python3"
  },
  "language_info": {
   "codemirror_mode": {
    "name": "ipython",
    "version": 3
   },
   "file_extension": ".py",
   "mimetype": "text/x-python",
   "name": "python",
   "nbconvert_exporter": "python",
   "pygments_lexer": "ipython3",
   "version": "3.10.11"
  }
 },
 "nbformat": 4,
 "nbformat_minor": 5
}
